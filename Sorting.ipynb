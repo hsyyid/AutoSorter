{
 "cells": [
  {
   "cell_type": "code",
   "execution_count": 100,
   "metadata": {},
   "outputs": [],
   "source": [
    "from sklearn.cluster import KMeans"
   ]
  },
  {
   "cell_type": "code",
   "execution_count": 259,
   "metadata": {},
   "outputs": [],
   "source": [
    "import string\n",
    "import os\n",
    "import docx2txt\n",
    "import matplotlib as plt\n",
    "import pandas as pd\n",
    "from nltk.corpus import stopwords"
   ]
  },
  {
   "cell_type": "code",
   "execution_count": 102,
   "metadata": {},
   "outputs": [],
   "source": [
    "def getListOfFiles(dirName):\n",
    "    # create a list of file and sub directories \n",
    "    # names in the given directory \n",
    "    listOfFile = os.listdir(dirName)\n",
    "    allFiles = list()\n",
    "    # Iterate over all the entries\n",
    "    for entry in listOfFile:\n",
    "        # Create full path\n",
    "        fullPath = os.path.join(dirName, entry)\n",
    "        # If entry is a directory then get the list of files in this directory \n",
    "        if os.path.isdir(fullPath):\n",
    "            allFiles = allFiles + getListOfFiles(fullPath)\n",
    "        else:\n",
    "            allFiles.append(fullPath)\n",
    "                \n",
    "    return allFiles"
   ]
  },
  {
   "cell_type": "code",
   "execution_count": 216,
   "metadata": {},
   "outputs": [],
   "source": [
    "files = [x for x in getListOfFiles('./data') if ('.docx' in x) and ('Sources for' not in x)]"
   ]
  },
  {
   "cell_type": "code",
   "execution_count": 217,
   "metadata": {},
   "outputs": [],
   "source": [
    "text = [docx2txt.process(file) for file in files]"
   ]
  },
  {
   "cell_type": "code",
   "execution_count": 218,
   "metadata": {},
   "outputs": [],
   "source": [
    "en_stopwords = stopwords.words('english')\n",
    "\n",
    "def text_process(mess):\n",
    "    \"\"\"\n",
    "    Takes in a string of text, then performs the following:\n",
    "    1. Remove all punctuation\n",
    "    \"\"\"\n",
    "    # Check characters to see if they are in punctuation\n",
    "    nopunc = [char for char in mess if char not in string.punctuation]\n",
    "    \n",
    "    # Check characters to see they are not new line\n",
    "    nopunc = [char for char in mess if '\\n' not in char]\n",
    "\n",
    "    # Join the characters again to form the string.\n",
    "    nopunc = ''.join(nopunc)\n",
    "    \n",
    "    # Now just remove any stopwords\n",
    "    return [word for word in nopunc.split() if word.lower() not in en_stopwords]"
   ]
  },
  {
   "cell_type": "code",
   "execution_count": 219,
   "metadata": {},
   "outputs": [],
   "source": [
    "from sklearn.feature_extraction.text import CountVectorizer, TfidfTransformer"
   ]
  },
  {
   "cell_type": "code",
   "execution_count": 282,
   "metadata": {},
   "outputs": [],
   "source": [
    "cv = CountVectorizer(analyzer=text_process).fit(text)\n",
    "messages = cv.transform(text)\n",
    "tfidf = TfidfTransformer().fit(messages).transform(messages)"
   ]
  },
  {
   "cell_type": "code",
   "execution_count": 304,
   "metadata": {},
   "outputs": [],
   "source": [
    "kmeans = KMeans(n_clusters=7).fit(tfidf)"
   ]
  },
  {
   "cell_type": "code",
   "execution_count": 305,
   "metadata": {},
   "outputs": [
    {
     "data": {
      "text/plain": [
       "array([1, 5, 6, 4, 4, 1, 3, 2, 6, 6, 1, 4, 4, 4, 5, 2, 2, 5, 1, 1, 4, 5,\n",
       "       4, 1, 1, 4, 1, 1, 1, 2, 4, 4, 4, 4, 5, 4, 1, 6, 5, 0, 5, 6, 2, 1,\n",
       "       4, 1, 6, 6, 6, 6, 6, 2, 5, 1, 1, 1, 6, 0, 5, 5, 5, 5, 5, 5, 5, 4,\n",
       "       6, 5, 2, 5, 2, 5, 2, 5, 5, 5, 6, 6, 2, 2, 2, 2, 2, 4, 4, 6, 4, 5,\n",
       "       5, 0, 2, 4, 1, 1, 1, 0, 5, 2, 6, 1, 5, 5, 5, 3, 4, 5, 1, 3, 0, 1,\n",
       "       2, 4, 5, 6, 2, 1, 1, 1, 1, 5, 1, 1, 1, 4, 1, 1, 1, 1, 2, 5, 5, 0,\n",
       "       5, 2, 4, 4, 1, 1, 3, 0, 4, 5, 4, 6, 0, 5, 4, 5, 4, 5, 5, 4, 4, 4,\n",
       "       4, 4, 4, 4, 4, 4, 5, 5, 4, 4, 4, 4, 5, 5, 4, 4, 5, 0, 2, 4, 1, 5,\n",
       "       1, 4, 5, 4, 5, 5, 6, 4, 4, 5, 4, 3, 6, 5, 1, 5, 1, 1, 4, 4, 4, 5,\n",
       "       5, 4, 0, 4, 3, 3, 3, 4, 1, 5, 5, 2, 5, 1, 5, 1, 4, 6, 5, 4, 1, 0,\n",
       "       4, 4, 3, 3, 3, 1, 6, 6, 4, 1, 1, 3, 2, 4, 4, 4, 2, 4, 2, 1, 5, 4,\n",
       "       1, 5, 2, 5, 5, 1, 4, 2, 2, 1, 1, 1], dtype=int32)"
      ]
     },
     "execution_count": 305,
     "metadata": {},
     "output_type": "execute_result"
    }
   ],
   "source": [
    "kmeans.labels_"
   ]
  },
  {
   "cell_type": "code",
   "execution_count": 306,
   "metadata": {},
   "outputs": [],
   "source": [
    "def titles(cl):\n",
    "    members = [index for index in range(len(kmeans.labels_)) if kmeans.labels_[index] == cl]\n",
    "    return [files[index] for index in members]"
   ]
  },
  {
   "cell_type": "code",
   "execution_count": 307,
   "metadata": {},
   "outputs": [
    {
     "data": {
      "text/plain": [
       "['./data/9th Hon Research Packet  2015.docx',\n",
       " './data/AP Physics C Faradays Law Lab(1).docx',\n",
       " './data/AP Physics C Faradays Law Lab.docx',\n",
       " './data/Argumentative Essay Always Running.docx',\n",
       " './data/Classroom/16 PD 03 HON ENGLISH 9A S1 427/Speak Socratic Seminar - Hassan Syyid.docx',\n",
       " './data/Classroom/8th Grade US Period 2/14-15 Seminar Summative Exit Ticket.docx - Hassan_.docx',\n",
       " './data/Classroom/H English 10B Period 1/Goals for Semester 2 - Hassan Syyid.docx',\n",
       " './data/Classroom/H English 10B Period 1/Peer Critique Research Essay - Hassan Syyid.docx',\n",
       " './data/Classroom/Honors English 11A Period 3/Hassan Syyid - Gender articles assignment.docx',\n",
       " './data/Classroom/Honors English 9B Period 1/Part relates to Whole Rubric - Hassan Syyid.docx',\n",
       " './data/Classroom/Honors English 9B Period 1/Theme Argument Essay - Hassan Syyid.docx',\n",
       " './data/Classroom/Honors English 9B Period 1/Tips for Building an Outline - Hassan Syyid(1).docx',\n",
       " './data/Classroom/Honors English 9B Period 1/Tips for Building an Outline - Hassan Syyid.docx',\n",
       " './data/Classroom/PD 08 H Bio/Karyotyping Activity Computer Lab 2015 - Hassan Sy.docx',\n",
       " './data/Copy of Understanding Writing Style.docx',\n",
       " './data/Emulating Children_s Author Writing Style Reflecti.docx',\n",
       " './data/Format for Speaker_s outline.docx',\n",
       " './data/Goals for Semester 2 - Quarter 4 - Hassan Syyid.docx',\n",
       " './data/Grade 10/BC Calc/Project/BC Calc Project Ideas.docx',\n",
       " './data/Grade 10/Programming/Semester 1/2D Array/Matrix multiplication class.docx',\n",
       " './data/Hassan Syyid - Understanding Writing Style.docx',\n",
       " './data/Reading and Internet.docx',\n",
       " './data/The Anatomy of Disinformation Prompt.docx',\n",
       " './data/Theories of Motivation.docx',\n",
       " './data/Unit 1 Project.docx',\n",
       " './data/Untitled document(2).docx',\n",
       " './data/Worksheet A17.1 - Bubble Sort.doc.docx',\n",
       " './data/Worksheet A17.2 - Selection Sort.doc.docx']"
      ]
     },
     "execution_count": 307,
     "metadata": {},
     "output_type": "execute_result"
    }
   ],
   "source": [
    "titles(2)"
   ]
  },
  {
   "cell_type": "code",
   "execution_count": 277,
   "metadata": {},
   "outputs": [],
   "source": [
    "# text[1]"
   ]
  },
  {
   "cell_type": "code",
   "execution_count": 261,
   "metadata": {},
   "outputs": [
    {
     "data": {
      "text/html": [
       "<div>\n",
       "<style scoped>\n",
       "    .dataframe tbody tr th:only-of-type {\n",
       "        vertical-align: middle;\n",
       "    }\n",
       "\n",
       "    .dataframe tbody tr th {\n",
       "        vertical-align: top;\n",
       "    }\n",
       "\n",
       "    .dataframe thead th {\n",
       "        text-align: right;\n",
       "    }\n",
       "</style>\n",
       "<table border=\"1\" class=\"dataframe\">\n",
       "  <thead>\n",
       "    <tr style=\"text-align: right;\">\n",
       "      <th></th>\n",
       "    </tr>\n",
       "  </thead>\n",
       "  <tbody>\n",
       "  </tbody>\n",
       "</table>\n",
       "</div>"
      ],
      "text/plain": [
       "Empty DataFrame\n",
       "Columns: []\n",
       "Index: []"
      ]
     },
     "execution_count": 261,
     "metadata": {},
     "output_type": "execute_result"
    }
   ],
   "source": []
  },
  {
   "cell_type": "code",
   "execution_count": null,
   "metadata": {},
   "outputs": [],
   "source": []
  }
 ],
 "metadata": {
  "kernelspec": {
   "display_name": "Python 3",
   "language": "python",
   "name": "python3"
  },
  "language_info": {
   "codemirror_mode": {
    "name": "ipython",
    "version": 3
   },
   "file_extension": ".py",
   "mimetype": "text/x-python",
   "name": "python",
   "nbconvert_exporter": "python",
   "pygments_lexer": "ipython3",
   "version": "3.6.5"
  }
 },
 "nbformat": 4,
 "nbformat_minor": 2
}
